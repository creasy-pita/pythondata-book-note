{
 "cells": [
  {
   "cell_type": "markdown",
   "metadata": {},
   "source": [
    "### 数据获取"
   ]
  },
  {
   "cell_type": "markdown",
   "metadata": {},
   "source": [
    "#### 网络数据获取 Request包"
   ]
  },
  {
   "cell_type": "code",
   "execution_count": 45,
   "metadata": {},
   "outputs": [
    {
     "data": {
      "text/plain": [
       "200"
      ]
     },
     "execution_count": 45,
     "metadata": {},
     "output_type": "execute_result"
    }
   ],
   "source": [
    "import requests\n",
    "headers = {'User-Agent': 'Mozilla/5.0 (Windows NT 10.0; Win64; x64) AppleWebKit/537.36 (KHTML, like Gecko) Chrome/78.0.3904.108 Safari/537.36'}\n",
    "r = requests.get(\"https://book.douban.com/subject/1084336/comments/hot?p=1\",headers=headers)\n",
    "# r = requests.get(\"https://www.baidu.com\")\n",
    "r.status_code"
   ]
  },
  {
   "cell_type": "code",
   "execution_count": 28,
   "metadata": {},
   "outputs": [
    {
     "name": "stdout",
     "output_type": "stream",
     "text": [
      "utf-8\n"
     ]
    }
   ],
   "source": [
    "print(r.encoding)"
   ]
  },
  {
   "cell_type": "code",
   "execution_count": 46,
   "metadata": {},
   "outputs": [
    {
     "data": {
      "text/plain": [
       "'\\n\\n<!DOCTYPE html>\\n<html lang=\"zh-cmn-Hans\" class=\"ua-windows ua-webkit book-new-nav\">\\n<head>\\n  <meta http-equiv=\"Content-Type\" content=\"text/html; charset=utf-8\">\\n  <title>\\n    小王子 短评\\n</title>\\n  \\n<script>!function(e){var o=function(o,n,t){var c,i,r=new Date;n=n||30,t=t||\"/\",r.setTime(r.getTime()+24*n*60*60*1e3),c=\"; expires=\"+r.toGMTString();for(i in o)e.cookie=i+\"=\"+o[i]+c+\"; path=\"+t},n=function(o){var n,t,c,i=o+\"=\",r=e.cookie.split(\";\");for(t=0,c=r.length;t<c;t++)if(n=r[t].replace(/^\\\\s+|\\\\s+$/g,\"\"),0==n.indexOf(i))return n.substring(i.length,n.length).replace(/\\\\\"/g,\"\");return null},t=e.write,c={\"douban.com\":1,\"douban.fm\":1,\"google.com\":1,\"google.cn\":1,\"googleapis.com\":1,\"gmaptiles.co.kr\":1,\"gstatic.com\":1,\"gstatic.cn\":1,\"google-analytics.com\":1,\"googleadservices.com\":1},i=function(e,o){var n=new Image;n.onload=function(){},n.src=\"https://www.douban.com/j/except_report?kind=ra022&reason=\"+encodeURIComponent(e)+\"&environment=\"+encodeURIComponent(o)},r=function(o){try{t.call(e,o)}catch(e){t(o)}},a=/<script.*?src\\\\=[\"\\']?([^\"\\'\\\\s>]+)/gi,g=/http:\\\\/\\\\/(.+?)\\\\.([^\\\\/]+).+/i;e.writeln=e.write=function(e){var t,l=a.exec(e);return l&&(t=g.exec(l[1]))?c[t[2]]?void r(e):void(\"tqs\"!==n(\"hj\")&&(i(l[1],location.href),o({hj:\"tqs\"},1),setTimeout(function(){location.replace(location.href)},50))):void r(e)}}(document);\\n</script>\\n\\n  \\n    <meta http-equiv=\"Pragma\" content=\"no-cache\">\\n    <meta http-equiv=\"Expires\" content=\"Sun, 6 Mar 2005 01:00:00 GMT\">\\n    \\n    <script >var _head_start = new Date();</script>\\n    <script src=\"https://img3.doubanio.com/f/book/0495cb173e298c28593766009c7b0a953246c5b5/js/book/lib/jquery/jquery.js\"></script>\\n    <script src=\"https://img3.doubanio.com/f/shire/5ecaf46d6954d5a30bc7d99be86ae34031646e00/js/douban.js\"></script>\\n    <script src=\"https://img3.doubanio.com/f/book/165dc24cf2570e1b0d6294c948e46f3bc8259388/js/book/master.js\"></script>\\n    <link href=\"https://img3.doubanio.com/f/shire/3e5dfc68b0f376484c50cf08a58bbca3700911dc/css/douban.css\" rel=\"stylesheet\" type=\"text/css\">\\n    <link href=\"https://img3.doubanio.com/f/shire/8377b9498330a2e6f056d863987cc7a37eb4d486/css/ui/dialog.css\" rel=\"stylesheet\" type=\"text/css\">\\n    <link href=\"https://img3.doubanio.com/f/book/222a5c61e041638af8defc87cf97f4a863a77922/css/book/base/init.css\" rel=\"stylesheet\">\\n    <style type=\"text/css\">\\n    \\n        \\n    </style>\\n    \\n<link rel=\"stylesheet\" href=\"https://img3.doubanio.com/f/book/3ec79645ad5a5d15c9ead3c58da97f5d662c7400/css/book/subject/comment.css\"/>\\n<meta name=\"mobile-agent\" content=\"format=html5; url=http://m.douban.com/book/subject/1084336/comments\"/>\\n\\n    <!-- COLLECTED CSS -->\\n    <script></script>\\n\\n  <link rel=\"shortcut icon\" href=\"https://img3.doubanio.com/favicon.ico\" type=\"image/x-icon\">\\n</head>\\n<body>\\n  \\n    <script>var _body_start = new Date();</script>\\n    \\n  \\n\\n\\n\\n    <link href=\"//img3.doubanio.com/dae/accounts/resources/f5f3d66/shire/bundle.css\" rel=\"stylesheet\" type=\"text/css\">\\n\\n\\n\\n<div id=\"db-global-nav\" class=\"global-nav\">\\n  <div class=\"bd\">\\n    \\n<div class=\"top-nav-info\">\\n  <a href=\"https://accounts.douban.com/passport/login?source=book\" class=\"nav-login\" rel=\"nofollow\">登录/注册</a>\\n</div>\\n\\n\\n    <div class=\"top-nav-doubanapp\">\\n  <a href=\"https://www.douban.com/doubanapp/app?channel=top-nav\" class=\"lnk-doubanapp\">下载豆瓣客户端</a>\\n  <div id=\"doubanapp-tip\">\\n    <a href=\"https://www.douban.com/doubanapp/app?channel=qipao\" class=\"tip-link\">豆瓣 <span class=\"version\">6.0</span> 全新发布</a>\\n    <a href=\"javascript: void 0;\" class=\"tip-close\">×</a>\\n  </div>\\n  <div id=\"top-nav-appintro\" class=\"more-items\">\\n    <p class=\"appintro-title\">豆瓣</p>\\n    <p class=\"qrcode\">扫码直接下载</p>\\n    <div class=\"download\">\\n      <a href=\"https://www.douban.com/doubanapp/redirect?channel=top-nav&direct_dl=1&download=iOS\">iPhone</a>\\n      <span>·</span>\\n      <a href=\"https://www.douban.com/doubanapp/redirect?channel=top-nav&direct_dl=1&download=Android\" class=\"download-android\">Android</a>\\n    </div>\\n  </div>\\n</div>\\n\\n    \\n\\n\\n<div class=\"global-nav-items\">\\n  <ul>\\n    <li class=\"\">\\n      <a href=\"https://www.douban.com\" target=\"_blank\" data-moreurl-dict=\"{&quot;from&quot;:&quot;top-nav-click-main&quot;,&quot;uid&quot;:&quot;0&quot;}\">豆瓣</a>\\n    </li>\\n    <li class=\"on\">\\n      <a href=\"https://book.douban.com\"  data-moreurl-dict=\"{&quot;from&quot;:&quot;top-nav-click-book&quot;,&quot;uid&quot;:&quot;0&quot;}\">读书</a>\\n    </li>\\n    <li class=\"\">\\n      <a href=\"https://movie.douban.com\" target=\"_blank\" data-moreurl-dict=\"{&quot;from&quot;:&quot;top-nav-click-movie&quot;,&quot;uid&quot;:&quot;0&quot;}\">电影</a>\\n    </li>\\n    <li class=\"\">\\n      <a href=\"https://music.douban.com\" target=\"_blank\" data-moreurl-dict=\"{&quot;from&quot;:&quot;top-nav-click-music&quot;,&quot;uid&quot;:&quot;0&quot;}\">音乐</a>\\n    </li>\\n    <li class=\"\">\\n      <a href=\"https://www.douban.com/location\" target=\"_blank\" data-moreurl-dict=\"{&quot;from&quot;:&quot;top-nav-click-location&quot;,&quot;uid&quot;:&quot;0&quot;}\">同城</a>\\n    </li>\\n    <li class=\"\">\\n      <a href=\"https://www.douban.com/group\" target=\"_blank\" data-moreurl-dict=\"{&quot;from&quot;:&quot;top-nav-click-group&quot;,&quot;uid&quot;:&quot;0&quot;}\">小组</a>\\n    </li>\\n    <li class=\"\">\\n      <a href=\"https://read.douban.com&#47;?dcs=top-nav&amp;dcm=douban\" target=\"_blank\" data-moreurl-dict=\"{&quot;from&quot;:&quot;top-nav-click-read&quot;,&quot;uid&quot;:&quot;0&quot;}\">阅读</a>\\n    </li>\\n    <li class=\"\">\\n      <a href=\"https://douban.fm&#47;?from_=shire_top_nav\" target=\"_blank\" data-moreurl-dict=\"{&quot;from&quot;:&quot;top-nav-click-fm&quot;,&quot;uid&quot;:&quot;0&quot;}\">FM</a>\\n    </li>\\n    <li class=\"\">\\n      <a href=\"https://time.douban.com&#47;?dt_time_source=douban-web_top_nav\" target=\"_blank\" data-moreurl-dict=\"{&quot;from&quot;:&quot;top-nav-click-time&quot;,&quot;uid&quot;:&quot;0&quot;}\">时间</a>\\n    </li>\\n    <li class=\"\">\\n      <a href=\"https://market.douban.com&#47;?utm_campaign=douban_top_nav&amp;utm_source=douban&amp;utm_medium=pc_web\" target=\"_blank\" data-moreurl-dict=\"{&quot;from&quot;:&quot;top-nav-click-market&quot;,&quot;uid&quot;:&quot;0&quot;}\">豆品</a>\\n    </li>\\n    <li>\\n      <a href=\"#more\" class=\"bn-more\"><span>更多</span></a>\\n      <div class=\"more-items\">\\n        <table cellpadding=\"0\" cellspacing=\"0\">\\n          <tbody>\\n            <tr>\\n              <td>\\n                <a href=\"https://ypy.douban.com\" target=\"_blank\" data-moreurl-dict=\"{&quot;from&quot;:&quot;top-nav-click-ypy&quot;,&quot;uid&quot;:&quot;0&quot;}\">豆瓣摄影</a>\\n              </td>\\n            </tr>\\n          </tbody>\\n        </table>\\n      </div>\\n    </li>\\n  </ul>\\n</div>\\n\\n  </div>\\n</div>\\n<script>\\n  ;window._GLOBAL_NAV = {\\n    DOUBAN_URL: \"https://www.douban.com\",\\n    N_NEW_NOTIS: 0,\\n    N_NEW_DOUMAIL: 0\\n  };\\n</script>\\n\\n\\n\\n    <script src=\"//img3.doubanio.com/dae/accounts/resources/f5f3d66/shire/bundle.js\" defer=\"defer\"></script>\\n\\n\\n\\n\\n  \\n\\n\\n\\n    <link href=\"//img3.doubanio.com/dae/accounts/resources/f5f3d66/book/bundle.css\" rel=\"stylesheet\" type=\"text/css\">\\n\\n\\n\\n\\n<div id=\"db-nav-book\" class=\"nav\">\\n  <div class=\"nav-wrap\">\\n  <div class=\"nav-primary\">\\n    <div class=\"nav-logo\">\\n      <a href=\"https:&#47;&#47;book.douban.com\">豆瓣读书</a>\\n    </div>\\n    <div class=\"nav-search\">\\n      <form action=\"https:&#47;&#47;search.douban.com&#47;book/subject_search\" method=\"get\">\\n        <fieldset>\\n          <legend>搜索：</legend>\\n          <label for=\"inp-query\">\\n          </label>\\n          <div class=\"inp\"><input id=\"inp-query\" name=\"search_text\" size=\"22\" maxlength=\"60\" placeholder=\"书名、作者、ISBN\" value=\"\"></div>\\n          <div class=\"inp-btn\"><input type=\"submit\" value=\"搜索\"></div>\\n          <input type=\"hidden\" name=\"cat\" value=\"1001\" />\\n        </fieldset>\\n      </form>\\n    </div>\\n  </div>\\n  </div>\\n  <div class=\"nav-secondary\">\\n    \\n\\n<div class=\"nav-items\">\\n  <ul>\\n    <li    ><a href=\"https://book.douban.com/cart/\"\\n     >购书单</a>\\n    </li>\\n    <li    ><a href=\"https://read.douban.com/ebooks/?dcs=book-nav&dcm=douban\"\\n            target=\"_blank\"\\n     >电子图书</a>\\n    </li>\\n    <li    ><a href=\"https://market.douban.com/book?utm_campaign=book_nav_freyr&utm_source=douban&utm_medium=pc_web\"\\n     >豆瓣书店</a>\\n    </li>\\n    <li    ><a href=\"https://book.douban.com/annual/2019?source=navigation\"\\n            target=\"_blank\"\\n     >2019年度榜单</a>\\n    </li>\\n    <li    ><a href=\"https://m.douban.com/standbyme/annual2019?source=navigation\"\\n            target=\"_blank\"\\n     >2019书影音报告</a>\\n    </li>\\n    <li          class=\" book-cart\"\\n    ><a href=\"https://market.douban.com/cart/?biz_type=book&utm_campaign=book_nav_cart&utm_source=douban&utm_medium=pc_web\"\\n            target=\"_blank\"\\n     >购物车</a>\\n    </li>\\n  </ul>\\n</div>\\n\\n    <a href=\"https://book.douban.com/annual/2019?source=book_navigation\" class=\"bookannual\"></a>\\n  </div>\\n</div>\\n\\n<script id=\"suggResult\" type=\"text/x-jquery-tmpl\">\\n  <li data-link=\"{{= url}}\">\\n            <a href=\"{{= url}}\" onclick=\"moreurl(this, {from:\\'book_search_sugg\\', query:\\'{{= keyword }}\\', subject_id:\\'{{= id}}\\', i: \\'{{= index}}\\', type: \\'{{= type}}\\'})\">\\n            <img src=\"{{= pic}}\" width=\"40\" />\\n            <div>\\n                <em>{{= title}}</em>\\n                {{if year}}\\n                    <span>{{= year}}</span>\\n                {{/if}}\\n                <p>\\n                {{if type == \"b\"}}\\n                    {{= author_name}}\\n                {{else type == \"a\" }}\\n                    {{if en_name}}\\n                        {{= en_name}}\\n                    {{/if}}\\n                {{/if}}\\n                 </p>\\n            </div>\\n        </a>\\n        </li>\\n  </script>\\n\\n\\n\\n\\n    <script src=\"//img3.doubanio.com/dae/accounts/resources/f5f3d66/book/bundle.js\" defer=\"defer\"></script>\\n\\n\\n\\n\\n\\n    <div id=\"wrapper\">\\n        \\n        \\n  <div id=\"content\">\\n    \\n    <h1>小王子 短评</h1>\\n\\n    <div class=\"grid-16-8 clearfix\">\\n      \\n      <div class=\"article\">\\n<div class=\"comments-wrapper\">\\n    <div class=\"nav-tab title_line clearfix\">\\n        \\n    <span id=\"total-comments\">全部共 97734 条</span>\\n\\n        \\n    <div class=\"tabs-wrapper fright \">\\n        <a class=\"short-comment-tabs on-tab\" href=\"hot\" data-tab=\"hot\">热门</a>\\n        <span>/</span>\\n        <a class=\"short-comment-tabs \" href=\"new\" data-tab=\"new\">最新</a>\\n        <span>/</span>\\n        <a class=\"j a_show_login \" href=\"follows\" data-tab=\"follows\">好友</a>\\n    </div>\\n\\n    </div>\\n    <div id=\"comment-list-wrapper\">\\n        \\n\\n<div id=\"comments\" class=\"comment-list hot \">\\n        <ul>\\n                \\n    <li class=\"comment-item\" data-cid=\"10287387\">\\n            <div class=\"avatar\">\\n                <a title=\"眠去\" href=\"https://www.douban.com/people/rebekah/\">\\n                    <img src=\"https://img9.doubanio.com/icon/u1418881-44.jpg\">\\n                </a>\\n            </div>\\n        <div class=\"comment\">\\n            <h3>\\n                <span class=\"comment-vote\">\\n                    <span id=\"c-10287387\" class=\"vote-count\">4800</span>\\n                        <a href=\"javascript:;\" id=\"btn-10287387\" class=\"j a_show_login\" data-cid=\"10287387\">有用</a>\\n                </span>\\n                <span class=\"comment-info\">\\n                    <a href=\"https://www.douban.com/people/rebekah/\">眠去</a>\\n                        <span class=\"user-stars allstar50 rating\" title=\"力荐\"></span>\\n                    <span>2007-02-08</span>\\n                </span>\\n            </h3>\\n            <p class=\"comment-content\">\\n            \\n                <span class=\"short\">十几岁的时候渴慕着小王子，一天之间可以看四十四次日落。是在多久之后才明白，看四十四次日落的小王子，他有多么难过。</span>\\n            </p>\\n        </div>\\n    </li>\\n\\n                \\n    <li class=\"comment-item\" data-cid=\"480104477\">\\n            <div class=\"avatar\">\\n                <a title=\"小岩井\" href=\"https://www.douban.com/people/koiwai0908/\">\\n                    <img src=\"https://img9.doubanio.com/icon/u45442872-6.jpg\">\\n                </a>\\n            </div>\\n        <div class=\"comment\">\\n            <h3>\\n                <span class=\"comment-vote\">\\n                    <span id=\"c-480104477\" class=\"vote-count\">3050</span>\\n                        <a href=\"javascript:;\" id=\"btn-480104477\" class=\"j a_show_login\" data-cid=\"480104477\">有用</a>\\n                </span>\\n                <span class=\"comment-info\">\\n                    <a href=\"https://www.douban.com/people/koiwai0908/\">小岩井</a>\\n                    <span>2012-01-09</span>\\n                </span>\\n            </h3>\\n            <p class=\"comment-content\">\\n            \\n                <span class=\"short\">读了好多年，终于读完了，但是实在共鸣不起来，虽然知道那些道理，但真的觉得没什么了不起啊，是我还太幼稚吗？</span>\\n            </p>\\n        </div>\\n    </li>\\n\\n                \\n    <li class=\"comment-item\" data-cid=\"851287159\">\\n            <div class=\"avatar\">\\n                <a title=\"[已注销]\" href=\"https://www.douban.com/people/kse7en/\">\\n                    <img src=\"https://img1.doubanio.com/icon/user_normal.jpg\">\\n                </a>\\n            </div>\\n        <div class=\"comment\">\\n            <h3>\\n                <span class=\"comment-vote\">\\n                    <span id=\"c-851287159\" class=\"vote-count\">2345</span>\\n                        <a href=\"javascript:;\" id=\"btn-851287159\" class=\"j a_show_login\" data-cid=\"851287159\">有用</a>\\n                </span>\\n                <span class=\"comment-info\">\\n                    <a href=\"https://www.douban.com/people/kse7en/\">[已注销]</a>\\n                        <span class=\"user-stars allstar50 rating\" title=\"力荐\"></span>\\n                    <span>2014-10-05</span>\\n                </span>\\n            </h3>\\n            <p class=\"comment-content\">\\n            \\n                <span class=\"short\">我早该猜到，在她那可笑的伎俩后面是缱绻柔情啊。花朵是如此的天真无邪，可是，我毕竟太年轻了，不知该如何去爱她。</span>\\n            </p>\\n        </div>\\n    </li>\\n\\n                \\n    <li class=\"comment-item\" data-cid=\"575471489\">\\n            <div class=\"avatar\">\\n                <a title=\"渍\" href=\"https://www.douban.com/people/phoebejk/\">\\n                    <img src=\"https://img9.doubanio.com/icon/u3735640-166.jpg\">\\n                </a>\\n            </div>\\n        <div class=\"comment\">\\n            <h3>\\n                <span class=\"comment-vote\">\\n                    <span id=\"c-575471489\" class=\"vote-count\">1807</span>\\n                        <a href=\"javascript:;\" id=\"btn-575471489\" class=\"j a_show_login\" data-cid=\"575471489\">有用</a>\\n                </span>\\n                <span class=\"comment-info\">\\n                    <a href=\"https://www.douban.com/people/phoebejk/\">渍</a>\\n                        <span class=\"user-stars allstar50 rating\" title=\"力荐\"></span>\\n                    <span>2012-09-01</span>\\n                </span>\\n            </h3>\\n            <p class=\"comment-content\">\\n            \\n                <span class=\"short\">我的玫瑰花儿，只有四个微不足道的刺，用来抵御这个世界。</span>\\n            </p>\\n        </div>\\n    </li>\\n\\n                \\n    <li class=\"comment-item\" data-cid=\"1019114317\">\\n            <div class=\"avatar\">\\n                <a title=\"河狸\" href=\"https://www.douban.com/people/helizhanglao/\">\\n                    <img src=\"https://img1.doubanio.com/icon/u2228416-29.jpg\">\\n                </a>\\n            </div>\\n        <div class=\"comment\">\\n            <h3>\\n                <span class=\"comment-vote\">\\n                    <span id=\"c-1019114317\" class=\"vote-count\">801</span>\\n                        <a href=\"javascript:;\" id=\"btn-1019114317\" class=\"j a_show_login\" data-cid=\"1019114317\">有用</a>\\n                </span>\\n                <span class=\"comment-info\">\\n                    <a href=\"https://www.douban.com/people/helizhanglao/\">河狸</a>\\n                        <span class=\"user-stars allstar30 rating\" title=\"还行\"></span>\\n                    <span>2016-03-09</span>\\n                </span>\\n            </h3>\\n            <p class=\"comment-content\">\\n            \\n                <span class=\"short\">这是一本定位颇尴尬的名著，薄薄的一本小册子里充满了太多的暗喻和说教，对孩子来说看不懂且沉闷，对大人来说，也许能够理解其中一部分的暗喻了，但是却又早已成为了书中的“成年人”。</span>\\n            </p>\\n        </div>\\n    </li>\\n\\n                \\n    <li class=\"comment-item\" data-cid=\"193119339\">\\n            <div class=\"avatar\">\\n                <a title=\"黛安Diane\" href=\"https://www.douban.com/people/sweetmm/\">\\n                    <img src=\"https://img1.doubanio.com/icon/u3234209-57.jpg\">\\n                </a>\\n            </div>\\n        <div class=\"comment\">\\n            <h3>\\n                <span class=\"comment-vote\">\\n                    <span id=\"c-193119339\" class=\"vote-count\">736</span>\\n                        <a href=\"javascript:;\" id=\"btn-193119339\" class=\"j a_show_login\" data-cid=\"193119339\">有用</a>\\n                </span>\\n                <span class=\"comment-info\">\\n                    <a href=\"https://www.douban.com/people/sweetmm/\">黛安Diane</a>\\n                        <span class=\"user-stars allstar50 rating\" title=\"力荐\"></span>\\n                    <span>2009-12-22</span>\\n                </span>\\n            </h3>\\n            <p class=\"comment-content\">\\n            \\n                <span class=\"short\">说实话 我看不太懂 但还是跟风给个5星吧 以显示我也是有思想有学识之人</span>\\n            </p>\\n        </div>\\n    </li>\\n\\n                \\n    <li class=\"comment-item\" data-cid=\"961360514\">\\n            <div class=\"avatar\">\\n                <a title=\"菱夏\" href=\"https://www.douban.com/people/qianlishuitiany/\">\\n                    <img src=\"https://img1.doubanio.com/icon/u4869978-57.jpg\">\\n                </a>\\n            </div>\\n        <div class=\"comment\">\\n            <h3>\\n                <span class=\"comment-vote\">\\n                    <span id=\"c-961360514\" class=\"vote-count\">505</span>\\n                        <a href=\"javascript:;\" id=\"btn-961360514\" class=\"j a_show_login\" data-cid=\"961360514\">有用</a>\\n                </span>\\n                <span class=\"comment-info\">\\n                    <a href=\"https://www.douban.com/people/qianlishuitiany/\">菱夏</a>\\n                        <span class=\"user-stars allstar30 rating\" title=\"还行\"></span>\\n                    <span>2015-09-23</span>\\n                </span>\\n            </h3>\\n            <p class=\"comment-content\">\\n            \\n                <span class=\"short\">虽然我实在幼稚，但我并不怎么喜欢孩童般的纯净，我只爱风浪过后的平静，流水打磨出的清亮，大雪纷飞时的安宁，沧桑看透的纯真，我爱眼冷心热的庄子，人究竟无所逃于天地之间，各适其性，做自己认为有意义的事就好了，无论是统治宇宙还是喝酒点灯，对他们来说，都比爱一朵玫瑰重要，这不是很好的么</span>\\n            </p>\\n        </div>\\n    </li>\\n\\n                \\n    <li class=\"comment-item\" data-cid=\"26285645\">\\n            <div class=\"avatar\">\\n                <a title=\"北溟鱼\" href=\"https://www.douban.com/people/julia1989/\">\\n                    <img src=\"https://img3.doubanio.com/icon/u1339639-63.jpg\">\\n                </a>\\n            </div>\\n        <div class=\"comment\">\\n            <h3>\\n                <span class=\"comment-vote\">\\n                    <span id=\"c-26285645\" class=\"vote-count\">432</span>\\n                        <a href=\"javascript:;\" id=\"btn-26285645\" class=\"j a_show_login\" data-cid=\"26285645\">有用</a>\\n                </span>\\n                <span class=\"comment-info\">\\n                    <a href=\"https://www.douban.com/people/julia1989/\">北溟鱼</a>\\n                    <span>2007-12-15</span>\\n                </span>\\n            </h3>\\n            <p class=\"comment-content\">\\n            \\n                <span class=\"short\">不能理解的是，為什么它忽然紅成這樣？</span>\\n            </p>\\n        </div>\\n    </li>\\n\\n                \\n    <li class=\"comment-item\" data-cid=\"349150347\">\\n            <div class=\"avatar\">\\n                <a title=\"猫伯爵\" href=\"https://www.douban.com/people/guo_betty/\">\\n                    <img src=\"https://img1.doubanio.com/icon/u1126291-7.jpg\">\\n                </a>\\n            </div>\\n        <div class=\"comment\">\\n            <h3>\\n                <span class=\"comment-vote\">\\n                    <span id=\"c-349150347\" class=\"vote-count\">444</span>\\n                        <a href=\"javascript:;\" id=\"btn-349150347\" class=\"j a_show_login\" data-cid=\"349150347\">有用</a>\\n                </span>\\n                <span class=\"comment-info\">\\n                    <a href=\"https://www.douban.com/people/guo_betty/\">猫伯爵</a>\\n                        <span class=\"user-stars allstar50 rating\" title=\"力荐\"></span>\\n                    <span>2011-02-04</span>\\n                </span>\\n            </h3>\\n            <p class=\"comment-content\">\\n            \\n                <span class=\"short\">他像一颗树那样倒了下去</span>\\n            </p>\\n        </div>\\n    </li>\\n\\n                \\n    <li class=\"comment-item\" data-cid=\"182423079\">\\n            <div class=\"avatar\">\\n                <a title=\"蛇\" href=\"https://www.douban.com/people/tomienn_9crimes/\">\\n                    <img src=\"https://img3.doubanio.com/icon/u4599201-790.jpg\">\\n                </a>\\n            </div>\\n        <div class=\"comment\">\\n            <h3>\\n                <span class=\"comment-vote\">\\n                    <span id=\"c-182423079\" class=\"vote-count\">365</span>\\n                        <a href=\"javascript:;\" id=\"btn-182423079\" class=\"j a_show_login\" data-cid=\"182423079\">有用</a>\\n                </span>\\n                <span class=\"comment-info\">\\n                    <a href=\"https://www.douban.com/people/tomienn_9crimes/\">蛇</a>\\n                        <span class=\"user-stars allstar40 rating\" title=\"推荐\"></span>\\n                    <span>2009-11-25</span>\\n                </span>\\n            </h3>\\n            <p class=\"comment-content\">\\n            \\n                <span class=\"short\">狐狸告诉小王子的秘密是：用心去看才看得清楚；是分离让小王子更思念他的玫瑰；爱就是责任。 \\r\\n</span>\\n            </p>\\n        </div>\\n    </li>\\n\\n                \\n    <li class=\"comment-item\" data-cid=\"25726069\">\\n            <div class=\"avatar\">\\n                <a title=\"杜边生\" href=\"https://www.douban.com/people/darkiddy/\">\\n                    <img src=\"https://img3.doubanio.com/icon/u1105086-2.jpg\">\\n                </a>\\n            </div>\\n        <div class=\"comment\">\\n            <h3>\\n                <span class=\"comment-vote\">\\n                    <span id=\"c-25726069\" class=\"vote-count\">352</span>\\n                        <a href=\"javascript:;\" id=\"btn-25726069\" class=\"j a_show_login\" data-cid=\"25726069\">有用</a>\\n                </span>\\n                <span class=\"comment-info\">\\n                    <a href=\"https://www.douban.com/people/darkiddy/\">杜边生</a>\\n                    <span>2007-12-09</span>\\n                </span>\\n            </h3>\\n            <p class=\"comment-content\">\\n            \\n                <span class=\"short\">我老觉得小狐狸跟小王子是在搞GAY</span>\\n            </p>\\n        </div>\\n    </li>\\n\\n                \\n    <li class=\"comment-item\" data-cid=\"187886645\">\\n            <div class=\"avatar\">\\n                <a title=\"陳蘇蘇二逼人生\" href=\"https://www.douban.com/people/sukitian/\">\\n                    <img src=\"https://img1.doubanio.com/icon/u2376302-69.jpg\">\\n                </a>\\n            </div>\\n        <div class=\"comment\">\\n            <h3>\\n                <span class=\"comment-vote\">\\n                    <span id=\"c-187886645\" class=\"vote-count\">275</span>\\n                        <a href=\"javascript:;\" id=\"btn-187886645\" class=\"j a_show_login\" data-cid=\"187886645\">有用</a>\\n                </span>\\n                <span class=\"comment-info\">\\n                    <a href=\"https://www.douban.com/people/sukitian/\">陳蘇蘇二逼人生</a>\\n                        <span class=\"user-stars allstar50 rating\" title=\"力荐\"></span>\\n                    <span>2011-08-14</span>\\n                </span>\\n            </h3>\\n            <p class=\"comment-content\">\\n            \\n                <span class=\"short\">一边读一边很想哭。太寂寞了。人类真的太寂寞了。</span>\\n            </p>\\n        </div>\\n    </li>\\n\\n                \\n    <li class=\"comment-item\" data-cid=\"453513383\">\\n            <div class=\"avatar\">\\n                <a title=\"谋杀游戏机\" href=\"https://www.douban.com/people/hexiaoqin/\">\\n                    <img src=\"https://img1.doubanio.com/icon/u10969301-317.jpg\">\\n                </a>\\n            </div>\\n        <div class=\"comment\">\\n            <h3>\\n                <span class=\"comment-vote\">\\n                    <span id=\"c-453513383\" class=\"vote-count\">287</span>\\n                        <a href=\"javascript:;\" id=\"btn-453513383\" class=\"j a_show_login\" data-cid=\"453513383\">有用</a>\\n                </span>\\n                <span class=\"comment-info\">\\n                    <a href=\"https://www.douban.com/people/hexiaoqin/\">谋杀游戏机</a>\\n                        <span class=\"user-stars allstar40 rating\" title=\"推荐\"></span>\\n                    <span>2011-11-04</span>\\n                </span>\\n            </h3>\\n            <p class=\"comment-content\">\\n            \\n                <span class=\"short\">It is the time you have wasted for your rose that makes your rose so important.</span>\\n            </p>\\n        </div>\\n    </li>\\n\\n                \\n    <li class=\"comment-item\" data-cid=\"489033929\">\\n            <div class=\"avatar\">\\n                <a title=\"暴走系乙女药\" href=\"https://www.douban.com/people/woosaya/\">\\n                    <img src=\"https://img9.doubanio.com/icon/u2017192-174.jpg\">\\n                </a>\\n            </div>\\n        <div class=\"comment\">\\n            <h3>\\n                <span class=\"comment-vote\">\\n                    <span id=\"c-489033929\" class=\"vote-count\">316</span>\\n                        <a href=\"javascript:;\" id=\"btn-489033929\" class=\"j a_show_login\" data-cid=\"489033929\">有用</a>\\n                </span>\\n                <span class=\"comment-info\">\\n                    <a href=\"https://www.douban.com/people/woosaya/\">暴走系乙女药</a>\\n                        <span class=\"user-stars allstar40 rating\" title=\"推荐\"></span>\\n                    <span>2012-01-30</span>\\n                </span>\\n            </h3>\\n            <p class=\"comment-content\">\\n            \\n                <span class=\"short\">原来在我还不懂爱情的时候就爱上了你</span>\\n            </p>\\n        </div>\\n    </li>\\n\\n                \\n    <li class=\"comment-item\" data-cid=\"456621403\">\\n            <div class=\"avatar\">\\n                <a title=\"7酱™\" href=\"https://www.douban.com/people/maxineY/\">\\n                    <img src=\"https://img1.doubanio.com/icon/u41406642-877.jpg\">\\n                </a>\\n            </div>\\n        <div class=\"comment\">\\n            <h3>\\n                <span class=\"comment-vote\">\\n                    <span id=\"c-456621403\" class=\"vote-count\">292</span>\\n                        <a href=\"javascript:;\" id=\"btn-456621403\" class=\"j a_show_login\" data-cid=\"456621403\">有用</a>\\n                </span>\\n                <span class=\"comment-info\">\\n                    <a href=\"https://www.douban.com/people/maxineY/\">7酱™</a>\\n                        <span class=\"user-stars allstar50 rating\" title=\"力荐\"></span>\\n                    <span>2011-11-12</span>\\n                </span>\\n            </h3>\\n            <p class=\"comment-content\">\\n            \\n                <span class=\"short\">第一遍读时，我才4岁。等到真的读懂，才明白为什么这是一部“童话”。</span>\\n            </p>\\n        </div>\\n    </li>\\n\\n                \\n    <li class=\"comment-item\" data-cid=\"603728707\">\\n            <div class=\"avatar\">\\n                <a title=\"電気ブラン\" href=\"https://www.douban.com/people/Uranus_Qiang/\">\\n                    <img src=\"https://img1.doubanio.com/icon/u3236706-89.jpg\">\\n                </a>\\n            </div>\\n        <div class=\"comment\">\\n            <h3>\\n                <span class=\"comment-vote\">\\n                    <span id=\"c-603728707\" class=\"vote-count\">312</span>\\n                        <a href=\"javascript:;\" id=\"btn-603728707\" class=\"j a_show_login\" data-cid=\"603728707\">有用</a>\\n                </span>\\n                <span class=\"comment-info\">\\n                    <a href=\"https://www.douban.com/people/Uranus_Qiang/\">電気ブラン</a>\\n                        <span class=\"user-stars allstar50 rating\" title=\"力荐\"></span>\\n                    <span>2012-11-15</span>\\n                </span>\\n            </h3>\\n            <p class=\"comment-content\">\\n            \\n                <span class=\"short\">如果你是小王子，我就是那捉鸡的狐狸，求你驯养了我，却又对你说要你回去对你的玫瑰花负责。还大方地以为只要看见了麦田就会想起你头发的颜色。我却永远无法随你回到B-612星球。现在觉得，我可能只是猴面包树而已。</span>\\n            </p>\\n        </div>\\n    </li>\\n\\n                \\n    <li class=\"comment-item\" data-cid=\"965894472\">\\n            <div class=\"avatar\">\\n                <a title=\"Cassie\" href=\"https://www.douban.com/people/2866241/\">\\n                    <img src=\"https://img3.doubanio.com/icon/u2866241-30.jpg\">\\n                </a>\\n            </div>\\n        <div class=\"comment\">\\n            <h3>\\n                <span class=\"comment-vote\">\\n                    <span id=\"c-965894472\" class=\"vote-count\">276</span>\\n                        <a href=\"javascript:;\" id=\"btn-965894472\" class=\"j a_show_login\" data-cid=\"965894472\">有用</a>\\n                </span>\\n                <span class=\"comment-info\">\\n                    <a href=\"https://www.douban.com/people/2866241/\">Cassie</a>\\n                        <span class=\"user-stars allstar20 rating\" title=\"较差\"></span>\\n                    <span>2015-10-07</span>\\n                </span>\\n            </h3>\\n            <p class=\"comment-content\">\\n            \\n                <span class=\"short\">痛苦迷茫不是因为成为了“可笑”的大人，而是成为大人却没有真正长大。所以回过头来想要从怀念童年中解脱缓解痛苦那是本末倒置的做法。如果你作为一个成年人觉得痛苦，原因不是因为你“成年”了，也不是因为是生而为“人”，而是“你”停止了思考停止了学习。</span>\\n            </p>\\n        </div>\\n    </li>\\n\\n                \\n    <li class=\"comment-item\" data-cid=\"211779586\">\\n            <div class=\"avatar\">\\n                <a title=\"萌塔 C-137\" href=\"https://www.douban.com/people/mayday816/\">\\n                    <img src=\"https://img3.doubanio.com/icon/u26829552-190.jpg\">\\n                </a>\\n            </div>\\n        <div class=\"comment\">\\n            <h3>\\n                <span class=\"comment-vote\">\\n                    <span id=\"c-211779586\" class=\"vote-count\">276</span>\\n                        <a href=\"javascript:;\" id=\"btn-211779586\" class=\"j a_show_login\" data-cid=\"211779586\">有用</a>\\n                </span>\\n                <span class=\"comment-info\">\\n                    <a href=\"https://www.douban.com/people/mayday816/\">萌塔 C-137</a>\\n                        <span class=\"user-stars allstar50 rating\" title=\"力荐\"></span>\\n                    <span>2010-04-29</span>\\n                </span>\\n            </h3>\\n            <p class=\"comment-content\">\\n            \\n                <span class=\"short\">是你浪费在我身上的时间 使我变得 如此珍贵</span>\\n            </p>\\n        </div>\\n    </li>\\n\\n                \\n    <li class=\"comment-item\" data-cid=\"525136708\">\\n            <div class=\"avatar\">\\n                <a title=\"[已注销]\" href=\"https://www.douban.com/people/sabrina89/\">\\n                    <img src=\"https://img1.doubanio.com/icon/user_normal.jpg\">\\n                </a>\\n            </div>\\n        <div class=\"comment\">\\n            <h3>\\n                <span class=\"comment-vote\">\\n                    <span id=\"c-525136708\" class=\"vote-count\">282</span>\\n                        <a href=\"javascript:;\" id=\"btn-525136708\" class=\"j a_show_login\" data-cid=\"525136708\">有用</a>\\n                </span>\\n                <span class=\"comment-info\">\\n                    <a href=\"https://www.douban.com/people/sabrina89/\">[已注销]</a>\\n                        <span class=\"user-stars allstar50 rating\" title=\"力荐\"></span>\\n                    <span>2012-04-27</span>\\n                </span>\\n            </h3>\\n            <p class=\"comment-content\">\\n            \\n                <span class=\"short\">爱屋及乌，爱一个人会让周围的一切变得美好，连麦浪的金黄都会让人心醉。 \\n\\u3000\\u3000\\u3000\\u3000 \\n\\u3000\\u3000\\u3000\\u3000爱同样意味着责任。因为“你现在要对你驯服过的一切负责到底”。爱与被爱都有责任，每一段我们曾经付出过的感情，都必须为对方，为爱情负责，不是吗？ \\n\\u3000\\u3000\\u3000\\u3000 \\n\\u3000\\u3000\\u3000\\u3000爱很多时候又会面临失去。小王子离开的时候，对狐狸说“那么你什么好处也没得到”。狐狸回答：“由于麦子颜色的缘故，我还是得到了好处”。爱同样意味着宽容，意味着放弃，也许我们在面对渐行渐远的爱情，该抱着平和感激的心态，因为我们起码收获了麦浪的金黄！ \\n\\u3000\\u3000\\u3000\\u3000 \\n\\u3000\\u3000\\u3000\\u3000狐狸同样告诉小王子，“只有用心才能看得清。实质性的东西，用眼睛是看不见的”。只有这样，才能让我看清爱的本质。 \\n\\u3000\\u3000\\u3000\\u3000 \\n\\u3000\\u3000\\u3000\\u3000爱是什么？ \\n\\u3000\\u3000\\u3000\\u3000 \\n\\u3000\\u3000</span>\\n            </p>\\n        </div>\\n    </li>\\n\\n\\n        </ul>\\n            <div class=\"fold-hd\">\\n                <a class=\"qa\" href=\"https://help.douban.com/evaluation?app=4#t1-q4\" target=\"_blank\">为什么被折叠？</a>\\n                <a class=\"btn-unfold\" href=\"#\">有一些短评被折叠了</a>\\n                <div class=\"qa-tip\">\\n                    评论被折叠，是因为发布这条评论的帐号行为异常。评论仍可以被展开阅读，对发布人的账号不造成其他影响。如果认为有问题，可以<a href=\"https://help.douban.com/help/ask?category=movie\">联系</a>豆瓣读书。\\n                </div>\\n            </div>\\n            \\n            <ul class=\"fold-bd\">\\n                \\n                \\n    <li class=\"comment-item\" data-cid=\"713800182\">\\n            <div class=\"avatar\">\\n                <a title=\"陈毓秀\" href=\"https://www.douban.com/people/54793495/\">\\n                    <img src=\"https://img1.doubanio.com/icon/u54793495-138.jpg\">\\n                </a>\\n            </div>\\n        <div class=\"comment\">\\n            <h3>\\n                <span class=\"comment-vote\">\\n                    <span id=\"c-713800182\" class=\"vote-count\">896</span>\\n                        <a href=\"javascript:;\" id=\"btn-713800182\" class=\"j a_show_login\" data-cid=\"713800182\">有用</a>\\n                </span>\\n                <span class=\"comment-info\">\\n                    <a href=\"https://www.douban.com/people/54793495/\">陈毓秀</a>\\n                        <span class=\"user-stars allstar10 rating\" title=\"很差\"></span>\\n                    <span>2013-08-10</span>\\n                </span>\\n            </h3>\\n            <p class=\"comment-content\">\\n            \\n                <span class=\"short\">谁能告诉俺，小王子这种书有什么好看的？</span>\\n            </p>\\n        </div>\\n    </li>\\n\\n            </ul>\\n        \\n\\n</div>\\n\\n    </div>\\n    <div class=\"paginator-wrapper\">\\n        \\n<ul class=\"comment-paginator\">\\n        <li class=\"p\">\\n                <span class=\"page-disabled\">第一页</span>\\n        </li>\\n        <li class=\"p\">\\n                <span class=\"page-disabled\">前一页</span>\\n        </li>\\n        <li class=\"p\">\\n                <a class=\"page-btn\" href=\"hot?p=2\">后一页</a>\\n        </li>\\n</ul>\\n\\n    </div>\\n</div>\\n</div>\\n      <div class=\"aside\">\\n        \\n<div class=\"sidebar-wrapper\">\\n    \\n\\n    <p class=\"pl2 side-bar-link\">\\n        &gt; <a href=\"https://www.douban.com/login?reason=collect&amp;ck=\" name=\"pbtn-1084336-collect\" class=\"j a_show_login\">我来写短评</a>\\n    </p>\\n    <p class=\"pl2 side-bar-link\">\\n        &gt; <a href=\"https://book.douban.com/subject/1084336/\">小王子</a>\\n    </p>\\n    <div class=\"indent subject-info\">\\n        \\n\\n\\n\\n\\n\\n\\n\\n\\n\\n\\n\\n<div>\\n    <a href=\"https://book.douban.com/subject/1084336/\"><img width=\"100px\" class=\"fil\" alt=\"小王子\" title=\"小王子\" src=\"https://img3.doubanio.com/view/subject/m/public/s1103152.jpg\" rel=\"v:image\"></a>\\n<br clear=\"all\"/>\\n\\n    <span class=\"pl\">作者:</span> [法] 圣埃克苏佩里<br/>\\n\\n    \\n            \\n    <span class=\"pl\">原作名:</span> Le Petit Prince<br/>\\n\\n    \\n            \\n    \\n            \\n    <span class=\"pl\">isbn:</span> 702004249X<br/>\\n\\n    \\n            \\n    <span class=\"pl\">书名:</span> 小王子<br/>\\n\\n    \\n            \\n    <span class=\"pl\">页数:</span> 97<br/>\\n\\n    \\n    \\n            \\n    \\n    <span class=\"pl\">译者:</span> <a href=\"https://book.douban.com/search/%E9%A9%AC%E6%8C%AF%E8%81%98\">马振聘</a><br/>\\n\\n    \\n            \\n    \\n    \\n            \\n    <span class=\"pl\">定价:</span> 22.00元<br/>\\n\\n    \\n    \\n            \\n    <span class=\"pl\">出版社:</span> 人民文学出版社<br/>\\n\\n    \\n            \\n    \\n            \\n    <span class=\"pl\">装帧:</span> 平装<br/>\\n\\n    \\n            \\n    <span class=\"pl\">出版年:</span> 2003-8<br/>\\n\\n    \\n    \\n            \\n</div>\\n\\n    </div>\\n\\n</div>\\n\\n      </div>\\n      <div class=\"extra\">\\n        \\n      </div>\\n    </div>\\n  </div>\\n\\n        \\n  <div id=\"footer\">\\n    \\n<span id=\"icp\" class=\"fleft gray-link\">\\n    &copy; 2005－2020 douban.com, all rights reserved 北京豆网科技有限公司\\n</span>\\n\\n<a href=\"https://www.douban.com/hnypt/variformcyst.py\" style=\"display: none;\"></a>\\n\\n<span class=\"fright\">\\n    <a href=\"https://www.douban.com/about\">关于豆瓣</a>\\n    · <a href=\"https://www.douban.com/jobs\">在豆瓣工作</a>\\n    · <a href=\"https://www.douban.com/about?topic=contactus\">联系我们</a>\\n    · <a href=\"https://www.douban.com/about/legal\">法律声明</a>\\n    \\n    · <a href=\"https://help.douban.com/?app=book\" target=\"_blank\">帮助中心</a>\\n    · <a href=\"https://book.douban.com/library_invitation\">图书馆合作</a>\\n    · <a href=\"https://www.douban.com/doubanapp/\">移动应用</a>\\n    · <a href=\"https://www.douban.com/partner/\">豆瓣广告</a>\\n</span>\\n\\n  </div>\\n\\n    </div>\\n      \\n  \\n\\n    <!-- COLLECTED JS -->\\n    <!-- mako -->\\n    \\n    <script src=\"https://img3.doubanio.com/f/shire/383a6e43f2108dc69e3ff2681bc4dc6c72a5ffb0/js/ui/dialog.js\"></script>\\n    <script src=\"https://img3.doubanio.com/f/book/2e421e5ec8f2869d31535206c0ac0322532be1f8/js/book/mod/hide.js\"></script>\\n    <script src=\"https://img3.doubanio.com/f/book/cc6b1a77c3812c7dd20b0374332fade081e1c0b0/js/book/subject/unfold.js\"></script>\\n        <script src=\"https://img3.doubanio.com/f/book/a75e2658e3020c647ba8c763a2fcafa40473da11/js/book/subject/short_comment_view.js\"></script>\\n    <script>\\n        $(\\'.collect_btn\\').each(function(){\\n               Douban.init_collect_btn(this);\\n        });\\n    </script>\\n\\n    \\n  \\n\\n<script type=\"text/javascript\">\\n  var _paq = _paq || [];\\n  _paq.push([\\'trackPageView\\']);\\n  _paq.push([\\'enableLinkTracking\\']);\\n  (function() {\\n    var p=((\\'https:\\' == document.location.protocol) ? \\'https\\' : \\'http\\'), u=p+\\'://fundin.douban.com/\\';\\n    _paq.push([\\'setTrackerUrl\\', u+\\'piwik\\']);\\n    _paq.push([\\'setSiteId\\', \\'100001\\']);\\n    var d=document, g=d.createElement(\\'script\\'), s=d.getElementsByTagName(\\'script\\')[0]; \\n    g.type=\\'text/javascript\\';\\n    g.defer=true; \\n    g.async=true; \\n    g.src=p+\\'://s.doubanio.com/dae/fundin/piwik.js\\';\\n    s.parentNode.insertBefore(g,s);\\n  })();\\n</script>\\n\\n<script type=\"text/javascript\">\\nvar setMethodWithNs = function(namespace) {\\n  var ns = namespace ? namespace + \\'.\\' : \\'\\'\\n    , fn = function(string) {\\n        if(!ns) {return string}\\n        return ns + string\\n      }\\n  return fn\\n}\\n\\nvar gaWithNamespace = function(fn, namespace) {\\n  var method = setMethodWithNs(namespace)\\n  fn.call(this, method)\\n}\\n\\nvar _gaq = _gaq || []\\n  , accounts = [\\n      { id: \\'UA-7019765-1\\', namespace: \\'douban\\' }\\n    , { id: \\'UA-7019765-16\\', namespace: \\'\\' }\\n    ]\\n  , gaInit = function(account) {\\n      gaWithNamespace(function(method) {\\n        gaInitFn.call(this, method, account)\\n      }, account.namespace)\\n    }\\n  , gaInitFn = function(method, account) {\\n      _gaq.push([method(\\'_setAccount\\'), account.id])\\n\\n      \\n  _gaq.push([method(\\'_addOrganic\\'), \\'google\\', \\'q\\'])\\n  _gaq.push([method(\\'_addOrganic\\'), \\'baidu\\', \\'wd\\'])\\n  _gaq.push([method(\\'_addOrganic\\'), \\'soso\\', \\'w\\'])\\n  _gaq.push([method(\\'_addOrganic\\'), \\'youdao\\', \\'q\\'])\\n  _gaq.push([method(\\'_addOrganic\\'), \\'so.360.cn\\', \\'q\\'])\\n  _gaq.push([method(\\'_addOrganic\\'), \\'sogou\\', \\'query\\'])\\n  if (account.namespace) {\\n    _gaq.push([method(\\'_addIgnoredOrganic\\'), \\'豆瓣\\'])\\n    _gaq.push([method(\\'_addIgnoredOrganic\\'), \\'douban\\'])\\n    _gaq.push([method(\\'_addIgnoredOrganic\\'), \\'豆瓣网\\'])\\n    _gaq.push([method(\\'_addIgnoredOrganic\\'), \\'www.douban.com\\'])\\n  }\\n\\n      if (account.namespace === \\'douban\\') {\\n        _gaq.push([method(\\'_setDomainName\\'), \\'.douban.com\\'])\\n      }\\n\\n        _gaq.push([method(\\'_setCustomVar\\'), 1, \\'responsive_view_mode\\', \\'desktop\\', 3])\\n\\n        _gaq.push([method(\\'_setCustomVar\\'), 2, \\'login_status\\', \\'0\\', 2]);\\n\\n      _gaq.push([method(\\'_trackPageview\\')])\\n    }\\n\\nfor(var i = 0, l = accounts.length; i < l; i++) {\\n  var account = accounts[i]\\n  gaInit(account)\\n}\\n\\n\\n;(function() {\\n    var ga = document.createElement(\\'script\\');\\n    ga.src = (\\'https:\\' == document.location.protocol ? \\'https://ssl\\' : \\'http://www\\') + \\'.google-analytics.com/ga.js\\';\\n    ga.setAttribute(\\'async\\', \\'true\\');\\n    document.documentElement.firstChild.appendChild(ga);\\n})()\\n</script>\\n\\n\\n\\n\\n\\n\\n\\n\\n    <!-- dae-web-book--default-959579f6f-fwkh5-->\\n\\n</body>\\n</html>\\n\\n\\n\\n\\n\\n\\n\\n\\n\\n\\n\\n\\n\\n\\n\\n\\n\\n\\n\\n\\n\\n\\n\\n\\n\\n\\n\\n\\n\\n\\n\\n\\n\\n\\n\\n\\n'"
      ]
     },
     "execution_count": 46,
     "metadata": {},
     "output_type": "execute_result"
    }
   ],
   "source": [
    " r.text"
   ]
  },
  {
   "cell_type": "markdown",
   "metadata": {},
   "source": [
    "#### 正则表达式"
   ]
  },
  {
   "cell_type": "code",
   "execution_count": 31,
   "metadata": {},
   "outputs": [],
   "source": [
    "import re;\n",
    "# help(re)"
   ]
  },
  {
   "cell_type": "code",
   "execution_count": 33,
   "metadata": {},
   "outputs": [],
   "source": [
    "#用 \\s 匹配空白符，换行符也属于空白符，空白符并不是空格\n",
    "pattern = re.compile('\\stest')\n",
    "p = re.findall(pattern, 'span is \\ntest')\n",
    "p"
   ]
  },
  {
   "cell_type": "markdown",
   "metadata": {},
   "source": [
    "#### 正则表达式字符   () 的用法"
   ]
  },
  {
   "cell_type": "code",
   "execution_count": 43,
   "metadata": {},
   "outputs": [
    {
     "data": {
      "text/plain": [
       "['he']"
      ]
     },
     "execution_count": 43,
     "metadata": {},
     "output_type": "execute_result"
    }
   ],
   "source": [
    "#)() 可以捕获符合的是否有固定的文本，此处捕获字符开始为 he的内容\n",
    "pattern = re.compile('^(he)+')\n",
    "p =re.findall(pattern, 'heheh he heh')\n",
    "p"
   ]
  },
  {
   "cell_type": "code",
   "execution_count": 44,
   "metadata": {},
   "outputs": [
    {
     "data": {
      "text/plain": [
       "['45']"
      ]
     },
     "execution_count": 44,
     "metadata": {},
     "output_type": "execute_result"
    }
   ],
   "source": [
    "#)() 可以捕获符合的非固定内容，此处捕获allstar 后边的内容\n",
    "testtext = '<span class=\"user-stars allstar45 rating\"'\n",
    "pattern = re.compile('<span class=\"user-stars allstar(.*?) rating\"')\n",
    "p = re.findall(pattern, testtext)\n",
    "p"
   ]
  },
  {
   "cell_type": "markdown",
   "metadata": {},
   "source": [
    "## BeautifulSoup"
   ]
  },
  {
   "cell_type": "markdown",
   "metadata": {},
   "source": [
    "### 重要对象 Tag , NavigableString , BeautifulSoup , Comment"
   ]
  },
  {
   "cell_type": "markdown",
   "metadata": {},
   "source": [
    "#### tag"
   ]
  },
  {
   "cell_type": "code",
   "execution_count": 25,
   "metadata": {},
   "outputs": [
    {
     "name": "stdout",
     "output_type": "stream",
     "text": [
      "<b class=\"boldest\">Extremely bold</b>\n",
      "b\n"
     ]
    },
    {
     "data": {
      "text/plain": [
       "bs4.element.Tag"
      ]
     },
     "execution_count": 25,
     "metadata": {},
     "output_type": "execute_result"
    }
   ],
   "source": [
    "soup = BeautifulSoup('<span><b class=\"boldest\">Extremely bold</b></span>')\n",
    "tag = soup.span.b\n",
    "print(tag)\n",
    "print(tag.name)\n",
    "type(tag)\n",
    "# <class 'bs4.element.Tag'>"
   ]
  },
  {
   "cell_type": "markdown",
   "metadata": {},
   "source": [
    "##### attrs "
   ]
  },
  {
   "cell_type": "code",
   "execution_count": 30,
   "metadata": {},
   "outputs": [
    {
     "data": {
      "text/plain": [
       "{'class': ['verybold'], 'id': '1'}"
      ]
     },
     "execution_count": 30,
     "metadata": {},
     "output_type": "execute_result"
    }
   ],
   "source": [
    "soup = BeautifulSoup('<blockquote class=\"verybold\" id=\"1\">Extremely bold</blockquote>', 'lxml')\n",
    "soup.blockquote.attrs"
   ]
  },
  {
   "cell_type": "markdown",
   "metadata": {},
   "source": [
    "##### 多值属性 最常见的多值的属性是 class "
   ]
  },
  {
   "cell_type": "code",
   "execution_count": 29,
   "metadata": {},
   "outputs": [
    {
     "name": "stdout",
     "output_type": "stream",
     "text": [
      "['body', 'strikeout']\n",
      "['body', 'strikeout', 'midlight']\n"
     ]
    }
   ],
   "source": [
    "css_soup = BeautifulSoup('<p class=\"body strikeout\"></p>')\n",
    "print(css_soup.p.attrs['class'])\n",
    "css_soup.p.attrs['class'].append('midlight')\n",
    "print(css_soup.p.attrs['class'])"
   ]
  },
  {
   "cell_type": "markdown",
   "metadata": {},
   "source": [
    "#### ResultSet"
   ]
  },
  {
   "cell_type": "code",
   "execution_count": 22,
   "metadata": {},
   "outputs": [],
   "source": [
    "from bs4 import BeautifulSoup\n",
    "html_doc = \"\"\"\n",
    "<html><head><title>The Dormouse's story</title></head>\n",
    "<body>\n",
    "<p class=\"title\"><b>The Dormouse's story</b></p>\n",
    "\n",
    "<p class=\"story\">Once upon a time there were three little sisters; and their names were\n",
    "<a href=\"http://example.com/elsie\" class=\"sister\" id=\"link1\">Elsie</a>,\n",
    "<a href=\"http://example.com/lacie\" class=\"sister\" id=\"link2\">Lacie</a> and\n",
    "<a href=\"http://example.com/tillie\" class=\"sister\" id=\"link3\">Tillie</a>;\n",
    "and they lived at the bottom of a well.</p>\n",
    "\n",
    "<p class=\"story\">...</p>\n",
    "NavigableString:I'm here,Mr C\n",
    "\"\"\"\n",
    "soup = BeautifulSoup(html_doc, 'lxml')\n",
    "story = soup.find_all('')\n",
    "story = soup.find_all('p', 'story')\n",
    "# story = soup.find_all('title')"
   ]
  },
  {
   "cell_type": "code",
   "execution_count": 23,
   "metadata": {},
   "outputs": [
    {
     "name": "stdout",
     "output_type": "stream",
     "text": [
      "<head><title>The Dormouse's story</title></head>\n",
      "----------------------------------------------------------------------------------------------------\n",
      "<class 'bs4.element.ResultSet'>\n"
     ]
    }
   ],
   "source": [
    "print(soup.html.head)#soup.tagname的方式直接按层级方式访问Tag\n",
    "print('-'*100)\n",
    "print(type(story))\n",
    "for item in story:\n",
    "#     print(type(item))\n",
    "    print(item)\n",
    "    print('-'*100)"
   ]
  },
  {
   "cell_type": "code",
   "execution_count": null,
   "metadata": {},
   "outputs": [],
   "source": [
    "# 豆瓣短评前50的短评和评分均值"
   ]
  },
  {
   "cell_type": "code",
   "execution_count": 61,
   "metadata": {},
   "outputs": [
    {
     "name": "stdout",
     "output_type": "stream",
     "text": [
      "1 十几岁的时候渴慕着小王子，一天之间可以看四十四次日落。是在多久之后才明白，看四十四次日落的小王子，他有多么难过。\n",
      "2 读了好多年，终于读完了，但是实在共鸣不起来，虽然知道那些道理，但真的觉得没什么了不起啊，是我还太幼稚吗？\n",
      "3 我早该猜到，在她那可笑的伎俩后面是缱绻柔情啊。花朵是如此的天真无邪，可是，我毕竟太年轻了，不知该如何去爱她。\n",
      "4 我的玫瑰花儿，只有四个微不足道的刺，用来抵御这个世界。\n",
      "5 这是一本定位颇尴尬的名著，薄薄的一本小册子里充满了太多的暗喻和说教，对孩子来说看不懂且沉闷，对大人来说，也许能够理解其中一部分的暗喻了，但是却又早已成为了书中的“成年人”。\n",
      "6 说实话 我看不太懂 但还是跟风给个5星吧 以显示我也是有思想有学识之人\n",
      "7 虽然我实在幼稚，但我并不怎么喜欢孩童般的纯净，我只爱风浪过后的平静，流水打磨出的清亮，大雪纷飞时的安宁，沧桑看透的纯真，我爱眼冷心热的庄子，人究竟无所逃于天地之间，各适其性，做自己认为有意义的事就好了，无论是统治宇宙还是喝酒点灯，对他们来说，都比爱一朵玫瑰重要，这不是很好的么\n",
      "8 不能理解的是，為什么它忽然紅成這樣？\n",
      "9 他像一颗树那样倒了下去\n",
      "10 狐狸告诉小王子的秘密是：用心去看才看得清楚；是分离让小王子更思念他的玫瑰；爱就是责任。 \n",
      "\n",
      "11 我老觉得小狐狸跟小王子是在搞GAY\n",
      "12 一边读一边很想哭。太寂寞了。人类真的太寂寞了。\n",
      "13 It is the time you have wasted for your rose that makes your rose so important.\n",
      "14 原来在我还不懂爱情的时候就爱上了你\n",
      "15 第一遍读时，我才4岁。等到真的读懂，才明白为什么这是一部“童话”。\n",
      "16 如果你是小王子，我就是那捉鸡的狐狸，求你驯养了我，却又对你说要你回去对你的玫瑰花负责。还大方地以为只要看见了麦田就会想起你头发的颜色。我却永远无法随你回到B-612星球。现在觉得，我可能只是猴面包树而已。\n",
      "17 痛苦迷茫不是因为成为了“可笑”的大人，而是成为大人却没有真正长大。所以回过头来想要从怀念童年中解脱缓解痛苦那是本末倒置的做法。如果你作为一个成年人觉得痛苦，原因不是因为你“成年”了，也不是因为是生而为“人”，而是“你”停止了思考停止了学习。\n",
      "18 是你浪费在我身上的时间 使我变得 如此珍贵\n",
      "19 爱屋及乌，爱一个人会让周围的一切变得美好，连麦浪的金黄都会让人心醉。 \n",
      "　　　　 \n",
      "　　　　爱同样意味着责任。因为“你现在要对你驯服过的一切负责到底”。爱与被爱都有责任，每一段我们曾经付出过的感情，都必须为对方，为爱情负责，不是吗？ \n",
      "　　　　 \n",
      "　　　　爱很多时候又会面临失去。小王子离开的时候，对狐狸说“那么你什么好处也没得到”。狐狸回答：“由于麦子颜色的缘故，我还是得到了好处”。爱同样意味着宽容，意味着放弃，也许我们在面对渐行渐远的爱情，该抱着平和感激的心态，因为我们起码收获了麦浪的金黄！ \n",
      "　　　　 \n",
      "　　　　狐狸同样告诉小王子，“只有用心才能看得清。实质性的东西，用眼睛是看不见的”。只有这样，才能让我看清爱的本质。 \n",
      "　　　　 \n",
      "　　　　爱是什么？ \n",
      "　　　　 \n",
      "　　\n",
      "20 谁能告诉俺，小王子这种书有什么好看的？\n",
      "21 漫山遍野的玫瑰，但真的，我最喜欢最初的那一朵，带刺儿的那一朵。我能不能回去继续浇灌那朵玫瑰⋯⋯\n",
      "22 长这么大，读过次数最多的书就是《小王子》，我是那么的爱这本书，可是我都没有一本属于我的小王子，每次想读了就去图书馆借他，读过很多版本的小王子，但是每次读他，小王子在我心中都不一样。我在我的612星球等我的小王子回家，但有时候我也不确定我是玫瑰还是狐狸或是那条毒蛇，可能我也是小王子。\n",
      "23 你要非常有耐心，”狐狸说，“首先，你要在离我有点远的地方坐下，就像这样，坐在草地上。我会偷偷地看你，你不要说话。语言是误解的根源。但你每天都要坐得离我更近一点\n",
      "24 其實我覺得小王子自私不負責, 沒有看懂玫瑰, 而且被動地把小狐狸傷害了, 小王子看懂很多人和事, 卻到最後才明白愛情的本質。\n",
      "25 狐狸再好又有什么用，他还是爱玫瑰花\n",
      "26 无聊\n",
      "27 明明知道会受伤，还是义无反顾，人和狐狸一样，理智有时候睡着了\n",
      "28 哎，虽然说对作品一人一种解读，可是《小王子》它本身的基础里，是没有纯洁的。描述的是诈骗和算计。智商低的人解读不出这种算计；没见过世面，美见得少、爱见得少的，灵魂里没有天生的宏大的年轻小朋友，拿着李鬼叫李逵而已。这也能代表爱情，真正的爱情要笑死了！……直说它法式矫情和法式智商低，一定会被围殴。哎。可是真的好想拆穿---这皇帝没穿新衣。\n",
      "29 不知道第几次重读。每过一段时间再读，都有新的收获。心变得很柔软，脑里的迷雾被驱散。更多的关注他人，关心这个世界，自私是多么无趣的事情啊。我想，写一本能温暖人心，帮助困难的人们的书，比世界上很多事情都有意义。\n",
      "30 我俗气不知道在讲什么。。。\n",
      "31 没别人说的那么神\n",
      "32 终于读了这本被捧上天的书，事实证明，以前没读就对了\n",
      "33 可如果你驯服了我，那就好比是太阳又重新照亮我的生活。我会知道有个脚步声和其他所有的都不同。其他的脚步声会让我赶快躲进地下。而你的则会像音乐一样呼唤我出洞。\n",
      "34 记得当年傅子一语，对文学稍有感觉的人，都会感动的一本书。\n",
      "35 我说小王子死掉了，小表妹说他回到自己的星球了\n",
      "36 好东西，但不喜欢有些人把小王子抬得那么高，全是装逼\n",
      "37 这个评分给我好大的压力……\n",
      "38 记得世上会有干净纯粹的小王子，记得世上亦有温驯而微薄的狐狸。\n",
      "39 如此忧伤的成人童话\n",
      "40 我小的时候，没有看懂。现在想起来，竟然觉得这个故事冷。看了几遍都没有太看懂。直到有一天突然发现那种孤独。那种有很多星球可是只有你一个居民的孤独。精心呵护的玫瑰，路遇的小狐狸。所以才要和飞行员对话吧，因为太寂寞了。可是我们每个人，都是拥有一个星球的小王子。我学不会爱，学不会接受爱。\n",
      "长大了才看得懂的童话。了某个星球的一朵花。那么，只要在夜晚仰望星空，就会觉得漫天的繁星就像一朵朵盛开的花。\n",
      "42 无法理解书中的爱情观和友情观。是我长大了。但我庆幸于这样的成长，书中这样幼稚直白的爱情追求让我恐惧。狐狸付出一心柔情仍敌不过他心里那朵骄纵刺人的玫瑰花。他疲于容忍那朵花儿的无理取闹却还满心牵挂，哪怕她从未理解他的孤独。他的确想摆脱孤独，漫长的找寻之路，却最终只能面对孤独，依存孤独。\n",
      "43 不好看\n",
      "44 这是一本读给孩子听，但是触动的是大人的童话，是一本值得一生珍藏，甚至带着它躲避末日浩劫的作品。你能用怎样的话去评价它呢？怎样的话都显得多余，只能自己亲自读过后才能明白。推荐给所有觉得成长是种疲惫的人，让小王子告诉你，一朵长在你心里的玫瑰，胜过千万朵花圃里的那经济作物。\n",
      "45 以孩子的视角来观察想象成人的世界，用孩子的口吻来控拆社会的光怪陆离。\n",
      "46 是你浪费在我身上的时间 使我变得如此珍贵。\n",
      "47 一个人的成长 抛却的是他自己的纯与真 一个时代的成长 丰裕的是物质 消逝的是精神\n",
      "一本适合每个年龄段的书 推荐这个版本 翻译得更加好一点\n",
      "48 这就象花一样。如果你爱上了一朵生长在一颗星星上的花，那么夜间，你看着天空就感到甜蜜愉快，所有的星星上都好象开着花。玫瑰花。酒鬼。行星与落日。\n",
      "49 请给我画一只绵羊。\n",
      "50 反复反复反复看的枕边书\n",
      "42\n"
     ]
    }
   ],
   "source": [
    "import requests, re, time\n",
    "from bs4 import BeautifulSoup\n",
    "\n",
    "count = 0\n",
    "i = 0\n",
    "s, count_s, count_del = 0, 0, 0\n",
    "lst_stars = []\n",
    "headers = {'User-Agent': 'Mozilla/5.0 (Windows NT 10.0; Win64; x64) AppleWebKit/537.36 (KHTML, like Gecko) Chrome/78.0.3904.108 Safari/537.36'}\n",
    "while count < 50:\n",
    "    try:\n",
    "        r = requests.get('https://book.douban.com/subject/1084336/comments/hot?p=' + str(i+1), headers = headers)\n",
    "    except Exception as err:\n",
    "        print(err)\n",
    "        break\n",
    "    soup = BeautifulSoup(r.text, 'lxml')\n",
    "    comments = soup.find_all('span', 'short')\n",
    "    pattern = re.compile('<span class=\"user-stars allstar(.*?) rating\"')\n",
    "    p = re.findall(pattern, r.text)\n",
    "    for item in comments:\n",
    "        count += 1\n",
    "        if count > 50:\n",
    "            count_del += 1     # count the number of comments more than 50 of the page \n",
    "        else:\n",
    "            print(count, item.string)\n",
    "    for star in p:\n",
    "        lst_stars.append(int(star))\n",
    "    time.sleep(5)    # delay request from douban's robots.txt\n",
    "    i += 1\n",
    "    for star in lst_stars[:-count_del]:   # calculate the rating star of 50 comments\n",
    "        s += int(star) \n",
    "if count >= 50:\n",
    "    print(s // (len(lst_stars)-count_del))"
   ]
  }
 ],
 "metadata": {
  "kernelspec": {
   "display_name": "Python 3",
   "language": "python",
   "name": "python3"
  },
  "language_info": {
   "codemirror_mode": {
    "name": "ipython",
    "version": 3
   },
   "file_extension": ".py",
   "mimetype": "text/x-python",
   "name": "python",
   "nbconvert_exporter": "python",
   "pygments_lexer": "ipython3",
   "version": "3.7.4"
  }
 },
 "nbformat": 4,
 "nbformat_minor": 2
}
