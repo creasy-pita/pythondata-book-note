{
 "cells": [
  {
   "cell_type": "markdown",
   "metadata": {},
   "source": [
    "## Data Analysis Explore"
   ]
  },
  {
   "cell_type": "markdown",
   "metadata": {},
   "source": [
    "### 数据探索之基本数据特征分析"
   ]
  },
  {
   "cell_type": "code",
   "execution_count": 2,
   "metadata": {},
   "outputs": [
    {
     "name": "stdout",
     "output_type": "stream",
     "text": [
      "     sepal length (cm)  sepal width (cm)  petal length (cm)  petal width (cm)  \\\n",
      "0                  5.1               3.5                1.4               0.2   \n",
      "1                  4.9               3.0                1.4               0.2   \n",
      "2                  4.7               3.2                1.3               0.2   \n",
      "3                  4.6               3.1                1.5               0.2   \n",
      "4                  5.0               3.6                1.4               0.2   \n",
      "..                 ...               ...                ...               ...   \n",
      "145                6.7               3.0                5.2               2.3   \n",
      "146                6.3               2.5                5.0               1.9   \n",
      "147                6.5               3.0                5.2               2.0   \n",
      "148                6.2               3.4                5.4               2.3   \n",
      "149                5.9               3.0                5.1               1.8   \n",
      "\n",
      "     target  \n",
      "0         0  \n",
      "1         0  \n",
      "2         0  \n",
      "3         0  \n",
      "4         0  \n",
      "..      ...  \n",
      "145       2  \n",
      "146       2  \n",
      "147       2  \n",
      "148       2  \n",
      "149       2  \n",
      "\n",
      "[150 rows x 5 columns]\n"
     ]
    }
   ],
   "source": [
    "from sklearn import datasets\n",
    "#help(datasets)\n",
    "iris = datasets.load_iris()\n",
    "import pandas as pd\n",
    "iris_df = pd.DataFrame(iris.data)\n",
    "# =============================================================================\n",
    "# print(iris_df)\n",
    "# print(iris.feature_names)\n",
    "# =============================================================================\n",
    "iris_df.columns = iris.feature_names\n",
    "# =============================================================================\n",
    "# print(iris_df)\n",
    "# print(iris.target)\n",
    "# =============================================================================\n",
    "iris_df['target'] = iris.target\n",
    "print(iris_df)\n"
   ]
  },
  {
   "cell_type": "code",
   "execution_count": 3,
   "metadata": {},
   "outputs": [
    {
     "data": {
      "text/plain": [
       "(array([ 1.,  0.,  3.,  4.,  0.,  3.,  8.,  5.,  9., 14.,  0., 10., 26.,\n",
       "        11.,  0., 13.,  6., 12.,  6.,  4.,  0.,  3.,  6.,  2.,  0.,  1.,\n",
       "         1.,  1.,  0.,  1.]),\n",
       " array([2.  , 2.08, 2.16, 2.24, 2.32, 2.4 , 2.48, 2.56, 2.64, 2.72, 2.8 ,\n",
       "        2.88, 2.96, 3.04, 3.12, 3.2 , 3.28, 3.36, 3.44, 3.52, 3.6 , 3.68,\n",
       "        3.76, 3.84, 3.92, 4.  , 4.08, 4.16, 4.24, 4.32, 4.4 ]),\n",
       " <a list of 30 Patch objects>)"
      ]
     },
     "execution_count": 3,
     "metadata": {},
     "output_type": "execute_result"
    },
    {
     "data": {
      "image/png": "[encoded data removed]",
      "text/plain": [
       "<Figure size 432x288 with 1 Axes>"
      ]
     },
     "metadata": {
      "needs_background": "light"
     },
     "output_type": "display_data"
    }
   ],
   "source": [
    "#直方图 查看各维度属性的值分布\n",
    "import matplotlib.pyplot as plt\n",
    "plt.hist(iris_df.iloc[:,1],30,color='r')\n"
   ]
  },
  {
   "cell_type": "code",
   "execution_count": 4,
   "metadata": {},
   "outputs": [
    {
     "data": {
      "text/plain": [
       "(array([ 2.,  9., 26., 11.,  2.,  0.,  0.,  0.,  0.,  0.,  1.,  2.,  2.,\n",
       "         2.,  4.,  8.,  6., 12.,  8.,  9., 12.,  4.,  5.,  9.,  5.,  5.,\n",
       "         1.,  1.,  3.,  1.]),\n",
       " array([1.        , 1.19666667, 1.39333333, 1.59      , 1.78666667,\n",
       "        1.98333333, 2.18      , 2.37666667, 2.57333333, 2.77      ,\n",
       "        2.96666667, 3.16333333, 3.36      , 3.55666667, 3.75333333,\n",
       "        3.95      , 4.14666667, 4.34333333, 4.54      , 4.73666667,\n",
       "        4.93333333, 5.13      , 5.32666667, 5.52333333, 5.72      ,\n",
       "        5.91666667, 6.11333333, 6.31      , 6.50666667, 6.70333333,\n",
       "        6.9       ]),\n",
       " <a list of 30 Patch objects>)"
      ]
     },
     "execution_count": 4,
     "metadata": {},
     "output_type": "execute_result"
    },
    {
     "data": {
      "image/png": "[encoded data removed]",
      "text/plain": [
       "<Figure size 432x288 with 1 Axes>"
      ]
     },
     "metadata": {
      "needs_background": "light"
     },
     "output_type": "display_data"
    }
   ],
   "source": [
    "plt.hist(iris_df.iloc[:,2],30,color='r')\n"
   ]
  },
  {
   "cell_type": "code",
   "execution_count": 5,
   "metadata": {},
   "outputs": [
    {
     "data": {
      "text/plain": [
       "(array([ 5., 29.,  7.,  7.,  0.,  1.,  1.,  0.,  0.,  0.,  0.,  7.,  3.,\n",
       "         5.,  0., 13.,  8., 12.,  4.,  2.,  0., 12.,  5.,  6.,  0.,  6.,\n",
       "         3.,  8.,  3.,  3.]),\n",
       " array([0.1 , 0.18, 0.26, 0.34, 0.42, 0.5 , 0.58, 0.66, 0.74, 0.82, 0.9 ,\n",
       "        0.98, 1.06, 1.14, 1.22, 1.3 , 1.38, 1.46, 1.54, 1.62, 1.7 , 1.78,\n",
       "        1.86, 1.94, 2.02, 2.1 , 2.18, 2.26, 2.34, 2.42, 2.5 ]),\n",
       " <a list of 30 Patch objects>)"
      ]
     },
     "execution_count": 5,
     "metadata": {},
     "output_type": "execute_result"
    },
    {
     "data": {
      "image/png": "[encoded data removed]",
      "text/plain": [
       "<Figure size 432x288 with 1 Axes>"
      ]
     },
     "metadata": {
      "needs_background": "light"
     },
     "output_type": "display_data"
    }
   ],
   "source": [
    "plt.hist(iris_df.iloc[:,3],30,color='r')\n"
   ]
  },
  {
   "cell_type": "code",
   "execution_count": 7,
   "metadata": {},
   "outputs": [
    {
     "data": {
      "text/plain": [
       "NormaltestResult(statistic=3.1238322481520377, pvalue=0.2097338099298262)"
      ]
     },
     "execution_count": 7,
     "metadata": {},
     "output_type": "execute_result"
    }
   ],
   "source": [
    "import scipy\n",
    "scipy.stats.normaltest(iris_df.iloc[:,1], axis=0)\n",
    "#NormaltestResult(statistic=3.1238322481520377, pvalue=0.2097338099298262)   \n",
    "# pvalue大于0.05则符合正太分布特征"
   ]
  },
  {
   "cell_type": "code",
   "execution_count": 8,
   "metadata": {},
   "outputs": [
    {
     "data": {
      "text/plain": [
       "NormaltestResult(statistic=221.68729405585384, pvalue=7.264667501338673e-49)"
      ]
     },
     "execution_count": 8,
     "metadata": {},
     "output_type": "execute_result"
    }
   ],
   "source": [
    "scipy.stats.normaltest(iris_df.iloc[:,2], axis=0)\n"
   ]
  },
  {
   "cell_type": "code",
   "execution_count": 9,
   "metadata": {},
   "outputs": [
    {
     "data": {
      "text/plain": [
       "NormaltestResult(statistic=137.55596543193647, pvalue=1.3492785927137586e-30)"
      ]
     },
     "execution_count": 9,
     "metadata": {},
     "output_type": "execute_result"
    }
   ],
   "source": [
    "scipy.stats.normaltest(iris_df.iloc[:,3], axis=0)"
   ]
  },
  {
   "cell_type": "code",
   "execution_count": null,
   "metadata": {},
   "outputs": [],
   "source": []
  }
 ],
 "metadata": {
  "kernelspec": {
   "display_name": "Python 3",
   "language": "python",
   "name": "python3"
  },
  "language_info": {
   "codemirror_mode": {
    "name": "ipython",
    "version": 3
   },
   "file_extension": ".py",
   "mimetype": "text/x-python",
   "name": "python",
   "nbconvert_exporter": "python",
   "pygments_lexer": "ipython3",
   "version": "3.7.4"
  }
 },
 "nbformat": 4,
 "nbformat_minor": 2
}
