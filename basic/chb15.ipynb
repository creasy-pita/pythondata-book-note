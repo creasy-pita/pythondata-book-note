{
 "cells": [
  {
   "cell_type": "markdown",
   "metadata": {},
   "source": [
    "# statistics - line regression"
   ]
  },
  {
   "cell_type": "markdown",
   "metadata": {},
   "source": [
    "## Simple Linear Regression With scikit-learn"
   ]
  },
  {
   "cell_type": "code",
   "execution_count": 1,
   "metadata": {},
   "outputs": [],
   "source": [
    "import numpy as np\n",
    "from sklearn.linear_model import LinearRegression"
   ]
  },
  {
   "cell_type": "code",
   "execution_count": 2,
   "metadata": {},
   "outputs": [],
   "source": [
    "\n",
    "x = np.array([5, 15, 25, 35, 45, 55]).reshape((-1, 1))\n",
    "y = np.array([5, 20, 14, 32, 22, 38])"
   ]
  },
  {
   "cell_type": "code",
   "execution_count": 4,
   "metadata": {},
   "outputs": [
    {
     "data": {
      "text/plain": [
       "(array([[ 5],\n",
       "        [15],\n",
       "        [25],\n",
       "        [35],\n",
       "        [45],\n",
       "        [55]]), array([ 5, 20, 14, 32, 22, 38]))"
      ]
     },
     "execution_count": 4,
     "metadata": {},
     "output_type": "execute_result"
    }
   ],
   "source": [
    "x,y"
   ]
  },
  {
   "cell_type": "code",
   "execution_count": 5,
   "metadata": {},
   "outputs": [],
   "source": [
    "# Create a regression model and fit it with existing data\n",
    "model = LinearRegression().fit(x, y)"
   ]
  },
  {
   "cell_type": "code",
   "execution_count": 6,
   "metadata": {},
   "outputs": [
    {
     "name": "stdout",
     "output_type": "stream",
     "text": [
      "coefficient of determination: 0.715875613747954\n"
     ]
    }
   ],
   "source": [
    "# get the results to check whether the model works satisfactorily and interpret it\n",
    ">>> r_sq = model.score(x, y)\n",
    ">>> print('coefficient of determination:', r_sq)"
   ]
  },
  {
   "cell_type": "code",
   "execution_count": 7,
   "metadata": {},
   "outputs": [
    {
     "name": "stdout",
     "output_type": "stream",
     "text": [
      "intercept: 5.633333333333329\n",
      "slope: [0.54]\n"
     ]
    }
   ],
   "source": [
    ">>> print('intercept:', model.intercept_)\n",
    "# intercept: 5.633333333333329  截距\n",
    ">>> print('slope:', model.coef_)"
   ]
  },
  {
   "cell_type": "code",
   "execution_count": 9,
   "metadata": {},
   "outputs": [
    {
     "name": "stdout",
     "output_type": "stream",
     "text": [
      "predicted response:\n",
      "[ 8.33333333 13.73333333 19.13333333 24.53333333 29.93333333 35.33333333]\n"
     ]
    }
   ],
   "source": [
    "# Once there is a satisfactory model, you can use it for predictions with either existing or new data\n",
    ">>> y_pred = model.predict(x)\n",
    ">>> print('predicted response:', y_pred, sep='\\n')"
   ]
  },
  {
   "cell_type": "code",
   "execution_count": 16,
   "metadata": {},
   "outputs": [
    {
     "data": {
      "image/png": "[encoded data removed]",
      "text/plain": [
       "<Figure size 432x288 with 1 Axes>"
      ]
     },
     "metadata": {
      "needs_background": "light"
     },
     "output_type": "display_data"
    }
   ],
   "source": [
    "# draw the line regression fitline and provide data and predict reponse \n",
    "import matplotlib.pyplot as plt\n",
    "x_new=[5, 15, 25, 35, 45, 55]\n",
    "ya = [5, 20, 14, 32, 22, 38]\n",
    "xb = np.arange(5).reshape((-1,1))\n",
    "coef = np.polyfit(xa,ya,1)\n",
    "poly1d_fn = np.poly1d(coef) \n",
    "plt.plot(xa,ya, 'yo', xa, poly1d_fn(xa), '--k')\n",
    "plt.plot(x_new,poly1d_fn(x_new), 'yo')\n",
    "plt.xlim(0, 60)\n",
    "plt.ylim(0, 60)\n",
    "plt.show()"
   ]
  },
  {
   "cell_type": "markdown",
   "metadata": {},
   "source": [
    "## Multiple Linear Regression With scikit-learn"
   ]
  },
  {
   "cell_type": "code",
   "execution_count": 17,
   "metadata": {},
   "outputs": [],
   "source": [
    "x = [[0, 1], [5, 1], [15, 2], [25, 5], [35, 11], [45, 15], [55, 34], [60, 35]]\n",
    "y = [4, 5, 20, 14, 32, 22, 38, 43]\n",
    "x, y = np.array(x), np.array(y)"
   ]
  },
  {
   "cell_type": "code",
   "execution_count": 18,
   "metadata": {},
   "outputs": [],
   "source": [
    "model = LinearRegression().fit(x, y)"
   ]
  },
  {
   "cell_type": "code",
   "execution_count": 19,
   "metadata": {},
   "outputs": [
    {
     "name": "stdout",
     "output_type": "stream",
     "text": [
      "coefficient of determination: 0.8615939258756776\n",
      "intercept: 5.52257927519819\n",
      "slope: [0.44706965 0.25502548]\n"
     ]
    }
   ],
   "source": [
    ">>> r_sq = model.score(x, y)\n",
    ">>> print('coefficient of determination:', r_sq)\n",
    "# coefficient of determination: 0.8615939258756776\n",
    ">>> print('intercept:', model.intercept_)\n",
    "# intercept: 5.52257927519819\n",
    ">>> print('slope:', model.coef_)\n",
    "# slope: [0.44706965 0.25502548]"
   ]
  },
  {
   "cell_type": "code",
   "execution_count": 20,
   "metadata": {},
   "outputs": [
    {
     "name": "stdout",
     "output_type": "stream",
     "text": [
      "predicted response:\n",
      "[ 5.77760476  8.012953   12.73867497 17.9744479  23.97529728 29.4660957\n",
      " 38.78227633 41.27265006]\n"
     ]
    }
   ],
   "source": [
    ">>> y_pred = model.predict(x)\n",
    ">>> print('predicted response:', y_pred, sep='\\n')\n",
    "# predicted response:\n",
    "# [ 5.77760476  8.012953   12.73867497 17.9744479  23.97529728 29.4660957\n",
    "#  38.78227633 41.27265006]"
   ]
  },
  {
   "cell_type": "code",
   "execution_count": 21,
   "metadata": {},
   "outputs": [
    {
     "name": "stdout",
     "output_type": "stream",
     "text": [
      "[[0 1]\n",
      " [2 3]\n",
      " [4 5]\n",
      " [6 7]\n",
      " [8 9]]\n",
      "[ 5.77760476  7.18179502  8.58598528  9.99017554 11.3943658 ]\n"
     ]
    }
   ],
   "source": [
    ">>> x_new = np.arange(10).reshape((-1, 2))\n",
    ">>> print(x_new)\n",
    ">>> y_new = model.predict(x_new)\n",
    ">>> print(y_new)"
   ]
  },
  {
   "cell_type": "markdown",
   "metadata": {},
   "source": [
    "## Polynomial Regression with numpy"
   ]
  },
  {
   "cell_type": "code",
   "execution_count": 22,
   "metadata": {},
   "outputs": [],
   "source": [
    "import numpy as np\n",
    "import matplotlib.pyplot as plt\n",
    "\n",
    "X = [1, 5, 8, 10, 14, 18]\n",
    "Y = [1, 1, 10, 20, 45, 75]"
   ]
  },
  {
   "cell_type": "code",
   "execution_count": 26,
   "metadata": {},
   "outputs": [],
   "source": [
    "# Train Algorithm (Polynomial)\n",
    "degree = 2\n",
    "poly_fit = np.poly1d(np.polyfit(X,Y, degree))\n",
    "\n"
   ]
  },
  {
   "cell_type": "code",
   "execution_count": 29,
   "metadata": {},
   "outputs": [
    {
     "name": "stdout",
     "output_type": "stream",
     "text": [
      "[ 0.          0.26262626  0.52525253  0.78787879  1.05050505  1.31313131\n",
      "  1.57575758  1.83838384  2.1010101   2.36363636  2.62626263  2.88888889\n",
      "  3.15151515  3.41414141  3.67676768  3.93939394  4.2020202   4.46464646\n",
      "  4.72727273  4.98989899  5.25252525  5.51515152  5.77777778  6.04040404\n",
      "  6.3030303   6.56565657  6.82828283  7.09090909  7.35353535  7.61616162\n",
      "  7.87878788  8.14141414  8.4040404   8.66666667  8.92929293  9.19191919\n",
      "  9.45454545  9.71717172  9.97979798 10.24242424 10.50505051 10.76767677\n",
      " 11.03030303 11.29292929 11.55555556 11.81818182 12.08080808 12.34343434\n",
      " 12.60606061 12.86868687 13.13131313 13.39393939 13.65656566 13.91919192\n",
      " 14.18181818 14.44444444 14.70707071 14.96969697 15.23232323 15.49494949\n",
      " 15.75757576 16.02020202 16.28282828 16.54545455 16.80808081 17.07070707\n",
      " 17.33333333 17.5959596  17.85858586 18.12121212 18.38383838 18.64646465\n",
      " 18.90909091 19.17171717 19.43434343 19.6969697  19.95959596 20.22222222\n",
      " 20.48484848 20.74747475 21.01010101 21.27272727 21.53535354 21.7979798\n",
      " 22.06060606 22.32323232 22.58585859 22.84848485 23.11111111 23.37373737\n",
      " 23.63636364 23.8989899  24.16161616 24.42424242 24.68686869 24.94949495\n",
      " 25.21212121 25.47474747 25.73737374 26.        ]\n"
     ]
    },
    {
     "data": {
      "image/png": "[encoded data removed]",
      "text/plain": [
       "<Figure size 432x288 with 1 Axes>"
      ]
     },
     "metadata": {
      "needs_background": "light"
     },
     "output_type": "display_data"
    }
   ],
   "source": [
    "# Plot data\n",
    "xx = np.linspace(0, 26, 100)\n",
    "print(xx)\n",
    "plt.plot(xx, poly_fit(xx), c='r',linestyle='-')\n",
    "plt.title('Polynomial')\n",
    "plt.xlabel('X')\n",
    "plt.ylabel('Y')\n",
    "plt.axis([0, 25, 0, 100])\n",
    "plt.grid(True)\n",
    "plt.scatter(X, Y)\n",
    "plt.show()"
   ]
  },
  {
   "cell_type": "code",
   "execution_count": 25,
   "metadata": {},
   "outputs": [
    {
     "name": "stdout",
     "output_type": "stream",
     "text": [
      "29.997335810423564\n"
     ]
    }
   ],
   "source": [
    "# Predict price\n",
    "print( poly_fit(12) )"
   ]
  },
  {
   "cell_type": "markdown",
   "metadata": {},
   "source": [
    "### example  animal body and brain"
   ]
  },
  {
   "cell_type": "code",
   "execution_count": 10,
   "metadata": {},
   "outputs": [
    {
     "name": "stdout",
     "output_type": "stream",
     "text": [
      "      Brain\n",
      "0     3.385\n",
      "1     0.480\n",
      "2     1.350\n",
      "3   465.000\n",
      "4    36.330\n",
      "..      ...\n",
      "57  160.000\n",
      "58    0.900\n",
      "59    1.620\n",
      "60    0.104\n",
      "61    4.235\n",
      "\n",
      "[62 rows x 1 columns]\n"
     ]
    },
    {
     "data": {
      "text/plain": [
       "<matplotlib.collections.PathCollection at 0x21ce80c4cc8>"
      ]
     },
     "execution_count": 10,
     "metadata": {},
     "output_type": "execute_result"
    },
    {
     "data": {
      "image/png": "[encoded data removed]",
      "text/plain": [
       "<Figure size 432x288 with 1 Axes>"
      ]
     },
     "metadata": {
      "needs_background": "light"
     },
     "output_type": "display_data"
    }
   ],
   "source": [
    "import pandas as pd\n",
    "from sklearn import linear_model\n",
    "import matplotlib.pyplot as plt\n",
    "\n",
    "#read data\n",
    "dataframe = pd.read_fwf('brain_body.txt')\n",
    "x_values = dataframe[['Brain']]#[0:4]\n",
    "y_values = dataframe[['Body']]#[0:4]\n",
    "\n",
    "#train model on data\n",
    "body_reg = linear_model.LinearRegression()\n",
    "body_reg.fit(x_values, y_values)\n",
    "print(x_values)\n",
    "#visualize results\n",
    "plt.scatter(x_values, y_values)\n",
    "# plt.plot(x_values, body_reg.predict(x_values))"
   ]
  },
  {
   "cell_type": "code",
   "execution_count": 9,
   "metadata": {},
   "outputs": [],
   "source": [
    "plt.show()"
   ]
  },
  {
   "cell_type": "code",
   "execution_count": null,
   "metadata": {},
   "outputs": [],
   "source": []
  }
 ],
 "metadata": {
  "kernelspec": {
   "display_name": "Python 3",
   "language": "python",
   "name": "python3"
  },
  "language_info": {
   "codemirror_mode": {
    "name": "ipython",
    "version": 3
   },
   "file_extension": ".py",
   "mimetype": "text/x-python",
   "name": "python",
   "nbconvert_exporter": "python",
   "pygments_lexer": "ipython3",
   "version": "3.7.4"
  }
 },
 "nbformat": 4,
 "nbformat_minor": 2
}
